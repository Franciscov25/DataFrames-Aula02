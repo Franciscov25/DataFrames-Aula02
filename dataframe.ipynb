{
 "cells": [
  {
   "cell_type": "code",
   "execution_count": 1,
   "metadata": {},
   "outputs": [],
   "source": [
    "import pandas as pd"
   ]
  },
  {
   "cell_type": "code",
   "execution_count": null,
   "metadata": {},
   "outputs": [],
   "source": [
    "dados = {\n",
    "    'Nome': ['Ana', 'Bruno', 'Carlos'],\n",
    "    'Idade': [25, 30, 32],\n",
    "    'Cidade': ['São Paulo', 'Rio de Janeiro', 'Fortaleza']\n",
    "}\n",
    "\n",
    "dados\n",
    "print(dados)\n",
    "\n",
    "df = pd.DataFrame(dados)\n",
    "df"
   ]
  }
 ],
 "metadata": {
  "kernelspec": {
   "display_name": "Python 3",
   "language": "python",
   "name": "python3"
  },
  "language_info": {
   "codemirror_mode": {
    "name": "ipython",
    "version": 3
   },
   "file_extension": ".py",
   "mimetype": "text/x-python",
   "name": "python",
   "nbconvert_exporter": "python",
   "pygments_lexer": "ipython3",
   "version": "3.13.1"
  }
 },
 "nbformat": 4,
 "nbformat_minor": 2
}
