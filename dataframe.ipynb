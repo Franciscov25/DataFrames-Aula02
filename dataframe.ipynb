{
 "cells": [
  {
   "cell_type": "code",
   "execution_count": 1,
   "metadata": {},
   "outputs": [],
   "source": [
    "import pandas as pd"
   ]
  },
  {
   "cell_type": "code",
   "execution_count": null,
   "metadata": {},
   "outputs": [],
   "source": [
    "dados = {\n",
    "    'Nome': ['Ana', 'Bruno', 'Carlos'],\n",
    "    'Idade': [25, 30, 32],\n",
    "    'Cidade': ['São Paulo', 'Rio de Janeiro', 'Fortaleza']\n",
    "}\n",
    "\n",
    "dados\n",
    "print(dados)\n",
    "\n",
    "df = pd.DataFrame(dados)\n",
    "df"
   ]
  },
  {
   "cell_type": "code",
   "execution_count": null,
   "metadata": {},
   "outputs": [],
   "source": [
    "dados = [\n",
    "    ['Ana',24, 'São Paulo'],\n",
    "    ['Bruno',28, 'São Pedro'],\n",
    "    ['Carlos',32, 'São José'],\n",
    "]\n",
    "print(dados)"
   ]
  },
  {
   "cell_type": "code",
   "execution_count": null,
   "metadata": {},
   "outputs": [],
   "source": [
    "# usando função data frame do pandas para criar tabela e adicionando as colunas\n",
    "# é uma forma muito boa de visualizar os dados\n",
    "colunas = ['Nome', 'Idade', 'Cidade']\n",
    "\n",
    "df = pd.DataFrame(dados, columns=colunas)\n",
    "df"
   ]
  },
  {
   "cell_type": "code",
   "execution_count": null,
   "metadata": {},
   "outputs": [],
   "source": [
    "# usando a função dataframe para dizer quem é nome, idade e cidade, no caso são colunas\n",
    "df = pd.DataFrame(columns=['Nome', 'Idade', 'Cidade'])\n",
    "\n",
    "# na posição zero (primeira linha), o nome é ana a idade é 24 e a cidade é são paulo\n",
    "df.loc[0] = ['Ana', 24, 'São Paulo']\n",
    "df.loc[1] = ['Bruno', 28, 'São Pedro']\n",
    "df.loc[2] = ['Carlos', 32, 'São José']\n",
    "\n",
    "df"
   ]
  },
  {
   "cell_type": "code",
   "execution_count": null,
   "metadata": {},
   "outputs": [],
   "source": [
    "# utilizando arquivos para manipular os dados\n",
    "\n",
    "# Salvar o aquivo em csv\n",
    "df.to_csv('arquivo1.csv')\n",
    "\n",
    "# Salvar o arquivo em excel\n",
    "df.to_excel('arquivo2.xlsx')"
   ]
  },
  {
   "cell_type": "code",
   "execution_count": null,
   "metadata": {},
   "outputs": [],
   "source": [
    "# Ler os arquivos em csv e excel (no colab)\n",
    "\n",
    "df_leitura = pd.read_csv('content/arquivo1.csv') # insere o caminho de onde está o seu arquivo\n",
    "\n",
    "df_excel = pd.read_excel('content/arquivo2.xlsx') # sempre atenção ao caminho"
   ]
  },
  {
   "cell_type": "code",
   "execution_count": null,
   "metadata": {},
   "outputs": [],
   "source": [
    "# Trabalhando com DataFrame\n",
    "\n",
    "dados = {\n",
    "    'Nome': ['Ana', 'Bruno', 'Ana', 'Carlos'],\n",
    "    'Salário': [2500, 3000, 4000, 3800],\n",
    "    'Desconto': [10, 15, 5, 22]\n",
    "}\n",
    "\n",
    "df = pd.DataFrame(dados)\n",
    "df"
   ]
  },
  {
   "cell_type": "code",
   "execution_count": null,
   "metadata": {},
   "outputs": [],
   "source": [
    "df['Nome'].value_counts() # ele conta quantas vezes aparece a linha ana dentro da coluna Nome"
   ]
  },
  {
   "cell_type": "code",
   "execution_count": null,
   "metadata": {},
   "outputs": [],
   "source": [
    "df.value_counts() # ele anexa as coisas em comum"
   ]
  },
  {
   "cell_type": "code",
   "execution_count": null,
   "metadata": {},
   "outputs": [],
   "source": [
    "df_salario_aumento = df['Salário']*2\n",
    "df_salario_aumento # multiplicando cada linha do salário por 2"
   ]
  },
  {
   "cell_type": "code",
   "execution_count": null,
   "metadata": {},
   "outputs": [],
   "source": [
    "df_desconto_salario = df['Salário'] * (df['Desconto'] / 100)\n",
    "df_desconto_salario\n",
    "\n",
    "# Incluir novas colunas\n",
    "df['df_desconto_salario'] = df['Salário'] * (df['Desconto'] / 100)\n",
    "df"
   ]
  },
  {
   "cell_type": "code",
   "execution_count": null,
   "metadata": {},
   "outputs": [],
   "source": [
    "# Exercícios\n",
    "\n",
    "\"\"\"\n",
    "1. Crie o seguinte dataframe\n",
    "\n",
    "Nome: ana, laura, martim, julia, marcelo\n",
    "Salario: 2500, 2800, 3200, 2400, 3900\n",
    "Desconto: 10, 12, 10, 15, 18\n",
    "\n",
    "Calcule o desconto e mostre o valor que cada pessoa irá receber após o desconto.\n",
    "Salve esse arquivo em csv e volte a ler o arquivo que foi salvo.\n",
    "\"\"\"\n",
    "\n",
    "dados = {\n",
    "    'Nome': ['ana', 'laura', 'martim', 'julia', 'marcelo'],\n",
    "    'Salario': [2500, 2800, 3200, 2400, 3900],\n",
    "    'Desconto': [10, 12, 10, 15, 18]\n",
    "}\n",
    "\n",
    "df = pd.DataFrame(dados)\n",
    "\n",
    "# calculando o desconto\n",
    "df_desconto = df['Salario'] * (df['Desconto'] / 100)\n",
    "# aplicando o desconto no salário\n",
    "df_valorfinal = df['Salario'] - df_desconto\n",
    "\n",
    "# adicionando a coluna com o salário com descontos aplicados\n",
    "df['ValorFinal'] = df_valorfinal\n",
    "\n",
    "# salvando arquivo em csv\n",
    "df.to_csv('/content/arquivo1.xls') #caminho do arquivo\n",
    "\n",
    "# lendo arquivo salvo em csv\n",
    "df_leitura = pd.read_csv('/content/arquivo1.xls') #caminho do arquivo\n",
    "\n",
    "# min, max, media, mediana\n",
    "print(df['Salario'].min())\n",
    "print(df['Salario'].max())\n",
    "print(df['Salario'].mean())\n",
    "print(df['Salario'].median())\n",
    "\n",
    "# printando\n",
    "df"
   ]
  },
  {
   "cell_type": "code",
   "execution_count": null,
   "metadata": {},
   "outputs": [],
   "source": [
    "# Normalize as seguintes colunas\n",
    "\n",
    "dados = {\n",
    "    'num1': [10, 10.3, 15.7, 20.13, 35.33],\n",
    "    'num2': [111.11, 222.22, 333.33, 444.44, 555.55],\n",
    "    'num3': [10001, 10002, 10003, 10004, 10005]\n",
    "}\n",
    "\n",
    "df = pd.DataFrame(dados)\n",
    "\n",
    "\"\"\"\n",
    "fórmula: x = (x - xmin) / (xmax - xmin)\n",
    "\"\"\"\n",
    "\n",
    "# calculando - atenção a prioridade das operações, atenção aos parentêses\n",
    "for coluna in df.columns:\n",
    "    df[coluna] = (df[coluna] - df[coluna].min()) / (df[coluna].max() - df[coluna].min())\n",
    "\n",
    "print(df)"
   ]
  },
  {
   "cell_type": "code",
   "execution_count": null,
   "metadata": {},
   "outputs": [],
   "source": [
    "dados = {\n",
    "    'num1': [10, 10.3, 15.7, 20.13, 35.33],\n",
    "    'num2': [111.11, 222.22, 333.33, 444.44, 555.55],\n",
    "    'num3': [10001, 10002, 10003, 10004, 10005]\n",
    "}\n",
    "\n",
    "\"\"\"\n",
    "fórmula: x = (x - xmin) / (xmax - xmin)\n",
    "\"\"\"\n",
    "\n",
    "df = pd.DataFrame(dados)\n",
    "\n",
    "# Correção: Adicionar parênteses para chamar a função min()\n",
    "num1_norm = (df['num1'] - df['num1'].min()) / (df['num1'].max() - df['num1'].min())\n",
    "num2_norm = (df['num2'] - df['num2'].min()) / (df['num2'].max() - df['num2'].min())\n",
    "num3_norm = (df['num3'] - df['num3'].min()) / (df['num3'].max() - df['num3'].min())\n",
    "\n",
    "df['num1_norm'] = num1_norm\n",
    "df['num2_norm'] = num2_norm\n",
    "df['num3_norm'] = num3_norm\n",
    "\n",
    "df"
   ]
  },
  {
   "cell_type": "code",
   "execution_count": null,
   "metadata": {},
   "outputs": [],
   "source": [
    "dados = {\n",
    "    'Nome': ['Ana', 'Bruno', 'Carlos'],\n",
    "    'Idade': [25, 30, 32],\n",
    "    'Cidade': ['São Paulo', 'Rio de Janeiro', 'Fortaleza']\n",
    "}\n",
    "\n",
    "df = pd.DataFrame(dados)\n",
    "\n",
    "# usando for\n",
    "\n",
    "# iterar em todo df pela função iterrows\n",
    "for index, row in df.iterrows():\n",
    "    print(f'Nome: {row[\"Nome\"]}, Idade: {row[\"Idade\"]}')\n",
    "# escreve nome e traga seus respectivos nomes, faça o mesmo com idade"
   ]
  },
  {
   "cell_type": "code",
   "execution_count": null,
   "metadata": {},
   "outputs": [],
   "source": [
    "dados = {\n",
    "    'Nome': ['ana', 'laura', 'martim', 'julia', 'marcelo'],\n",
    "    'Salario': [2500, 2800, 3200, 2400, 3900],\n",
    "    'idade': [33, 31, 34, 45, 62]\n",
    "}\n",
    "\n",
    "df = pd.DataFrame(dados)\n",
    "\n",
    "df\n",
    "\n",
    "# iterando linha a linha olhando para o index (quantos tiverem ele passará)\n",
    "# se a idade for maior que 30, voce altera (o .at permite/realiza a alteração)\n",
    "for index, row in df.iterrows():\n",
    "  if row['idade'] > 30:\n",
    "    # entrando no df, e acessando o index do salario, fazendo que linha a linha multiplique por 1.1\n",
    "    df.at[index, 'Salario'] = row['Salario'] * 1.1\n",
    "print(df)"
   ]
  },
  {
   "cell_type": "code",
   "execution_count": null,
   "metadata": {},
   "outputs": [],
   "source": [
    "dados = {\n",
    "    'nome': ['ana', 'laura', 'martim'],\n",
    "    'peso': [70, 80, 90],\n",
    "    'altura': [1.65, 1.75, 1.85]\n",
    "}\n",
    "\n",
    "df = pd.DataFrame(dados)\n",
    "\n",
    "# Criando uma nova coluna IMC\n",
    "for index, row in df.iterrows():\n",
    "    # calculando o imc, row significa linha\n",
    "    imc = row['peso'] / (row['altura'] ** 2)\n",
    "    # o imc significa o nome da coluna\n",
    "    df.at[index, 'imc'] = imc\n",
    "# printando\n",
    "df"
   ]
  },
  {
   "cell_type": "code",
   "execution_count": null,
   "metadata": {},
   "outputs": [],
   "source": [
    "# usando for em DataFrames\n",
    "\n",
    "dados = {\n",
    "    'Nome': ['Ana', 'Bruno', 'Carlos', 'Raiam', 'José'],\n",
    "    'Idade': [25, 30, 32, 43, 68],\n",
    "    'Cidade': ['São Paulo', 'Rio de Janeiro', 'Fortaleza', 'Minas', 'ribeirão']\n",
    "}\n",
    "\n",
    "df = pd.DataFrame(dados)\n",
    "\n",
    "# Adicionar uma nova coluna para classificação baseada na idade\n",
    "\n",
    "# lembrando que por ser for, ele vai iterar/passar por cada item\n",
    "for index, row in df.iterrows():\n",
    "  # se a linha idade for menor que 30, será jovem\n",
    "  if row['Idade'] < 30:\n",
    "    df.at[index, 'Classificação'] = 'Jovem'\n",
    "  # dentro do df, criamos a coluna classificação por meio do .at, e atribuindo caso seja jovem\n",
    "  elif row['Idade'] < 50:\n",
    "    df.at[index, 'Classificação'] = 'Adulto'\n",
    "  else:\n",
    "    df.at[index, 'Classificação'] = 'Idoso'\n",
    "\n",
    "#printando o data frame\n",
    "df"
   ]
  },
  {
   "cell_type": "code",
   "execution_count": null,
   "metadata": {},
   "outputs": [],
   "source": [
    "# criar nova coluna chamada metropole, se for SP ou RJ\n",
    "# escreva sim, caso contrário, escreva não\n",
    "\n",
    "for index, row in df.iterrows():\n",
    "  if row['Cidade'] == 'São Paulo' or row['Cidade'] == 'Rio de Janeiro':\n",
    "    df.at[index, 'Metropole'] = 'Sim'\n",
    "  else:\n",
    "    df.at[index, 'Metropole'] = 'Não'\n",
    "\n",
    "df"
   ]
  }
 ],
 "metadata": {
  "kernelspec": {
   "display_name": "Python 3",
   "language": "python",
   "name": "python3"
  },
  "language_info": {
   "codemirror_mode": {
    "name": "ipython",
    "version": 3
   },
   "file_extension": ".py",
   "mimetype": "text/x-python",
   "name": "python",
   "nbconvert_exporter": "python",
   "pygments_lexer": "ipython3",
   "version": "3.13.1"
  }
 },
 "nbformat": 4,
 "nbformat_minor": 2
}
