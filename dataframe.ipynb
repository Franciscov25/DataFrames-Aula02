{
 "cells": [
  {
   "cell_type": "code",
   "execution_count": 1,
   "metadata": {},
   "outputs": [],
   "source": [
    "import pandas as pd"
   ]
  },
  {
   "cell_type": "code",
   "execution_count": null,
   "metadata": {},
   "outputs": [],
   "source": [
    "dados = {\n",
    "    'Nome': ['Ana', 'Bruno', 'Carlos'],\n",
    "    'Idade': [25, 30, 32],\n",
    "    'Cidade': ['São Paulo', 'Rio de Janeiro', 'Fortaleza']\n",
    "}\n",
    "\n",
    "dados\n",
    "print(dados)\n",
    "\n",
    "df = pd.DataFrame(dados)\n",
    "df"
   ]
  },
  {
   "cell_type": "code",
   "execution_count": null,
   "metadata": {},
   "outputs": [],
   "source": [
    "dados = [\n",
    "    ['Ana',24, 'São Paulo'],\n",
    "    ['Bruno',28, 'São Pedro'],\n",
    "    ['Carlos',32, 'São José'],\n",
    "]\n",
    "print(dados)"
   ]
  },
  {
   "cell_type": "code",
   "execution_count": null,
   "metadata": {},
   "outputs": [],
   "source": [
    "# usando função data frame do pandas para criar tabela e adicionando as colunas\n",
    "# é uma forma muito boa de visualizar os dados\n",
    "colunas = ['Nome', 'Idade', 'Cidade']\n",
    "\n",
    "df = pd.DataFrame(dados, columns=colunas)\n",
    "df"
   ]
  },
  {
   "cell_type": "code",
   "execution_count": null,
   "metadata": {},
   "outputs": [],
   "source": [
    "# usando a função dataframe para dizer quem é nome, idade e cidade, no caso são colunas\n",
    "df = pd.DataFrame(columns=['Nome', 'Idade', 'Cidade'])\n",
    "\n",
    "# na posição zero (primeira linha), o nome é ana a idade é 24 e a cidade é são paulo\n",
    "df.loc[0] = ['Ana', 24, 'São Paulo']\n",
    "df.loc[1] = ['Bruno', 28, 'São Pedro']\n",
    "df.loc[2] = ['Carlos', 32, 'São José']\n",
    "\n",
    "df"
   ]
  },
  {
   "cell_type": "code",
   "execution_count": null,
   "metadata": {},
   "outputs": [],
   "source": [
    "# utilizando arquivos para manipular os dados\n",
    "\n",
    "# Salvar o aquivo em csv\n",
    "df.to_csv('arquivo1.csv')\n",
    "\n",
    "# Salvar o arquivo em excel\n",
    "df.to_excel('arquivo2.xlsx')"
   ]
  },
  {
   "cell_type": "code",
   "execution_count": null,
   "metadata": {},
   "outputs": [],
   "source": [
    "# Ler os arquivos em csv e excel (no colab)\n",
    "\n",
    "df_leitura = pd.read_csv('content/arquivo1.csv') # insere o caminho de onde está o seu arquivo\n",
    "\n",
    "df_excel = pd.read_excel('content/arquivo2.xlsx') # sempre atenção ao caminho"
   ]
  },
  {
   "cell_type": "code",
   "execution_count": null,
   "metadata": {},
   "outputs": [],
   "source": [
    "# Trabalhando com DataFrame\n",
    "\n",
    "dados = {\n",
    "    'Nome': ['Ana', 'Bruno', 'Ana', 'Carlos'],\n",
    "    'Salário': [2500, 3000, 4000, 3800],\n",
    "    'Desconto': [10, 15, 5, 22]\n",
    "}\n",
    "\n",
    "df = pd.DataFrame(dados)\n",
    "df"
   ]
  },
  {
   "cell_type": "code",
   "execution_count": null,
   "metadata": {},
   "outputs": [],
   "source": [
    "df['Nome'].value_counts() # ele conta quantas vezes aparece a linha ana dentro da coluna Nome"
   ]
  },
  {
   "cell_type": "code",
   "execution_count": null,
   "metadata": {},
   "outputs": [],
   "source": [
    "df.value_counts() # ele anexa as coisas em comum"
   ]
  },
  {
   "cell_type": "code",
   "execution_count": null,
   "metadata": {},
   "outputs": [],
   "source": [
    "df_salario_aumento = df['Salário']*2\n",
    "df_salario_aumento # multiplicando cada linha do salário por 2"
   ]
  },
  {
   "cell_type": "code",
   "execution_count": null,
   "metadata": {},
   "outputs": [],
   "source": [
    "df_desconto_salario = df['Salário'] * (df['Desconto'] / 100)\n",
    "df_desconto_salario\n",
    "\n",
    "# Incluir novas colunas\n",
    "df['df_desconto_salario'] = df['Salário'] * (df['Desconto'] / 100)\n",
    "df"
   ]
  }
 ],
 "metadata": {
  "kernelspec": {
   "display_name": "Python 3",
   "language": "python",
   "name": "python3"
  },
  "language_info": {
   "codemirror_mode": {
    "name": "ipython",
    "version": 3
   },
   "file_extension": ".py",
   "mimetype": "text/x-python",
   "name": "python",
   "nbconvert_exporter": "python",
   "pygments_lexer": "ipython3",
   "version": "3.13.1"
  }
 },
 "nbformat": 4,
 "nbformat_minor": 2
}
